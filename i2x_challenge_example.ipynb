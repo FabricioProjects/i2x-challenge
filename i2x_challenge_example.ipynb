{
 "cells": [
  {
   "cell_type": "markdown",
   "metadata": {
    "ExecuteTime": {
     "end_time": "2017-07-01T12:37:32.600104",
     "start_time": "2017-07-01T12:37:30.267124"
    }
   },
   "source": [
    "# Example"
   ]
  },
  {
   "cell_type": "markdown",
   "metadata": {},
   "source": [
    "**Import the module**"
   ]
  },
  {
   "cell_type": "code",
   "execution_count": null,
   "metadata": {
    "ExecuteTime": {
     "end_time": "2017-07-01T13:26:28.942493",
     "start_time": "2017-07-01T13:26:25.745496"
    },
    "collapsed": true
   },
   "outputs": [],
   "source": [
    "import i2x"
   ]
  },
  {
   "cell_type": "markdown",
   "metadata": {},
   "source": [
    "**Script and transcript files path are arguments for the i2x.import_script_transcript() function**"
   ]
  },
  {
   "cell_type": "code",
   "execution_count": null,
   "metadata": {
    "ExecuteTime": {
     "end_time": "2017-07-01T13:26:31.122944",
     "start_time": "2017-07-01T13:26:30.984171"
    },
    "collapsed": false
   },
   "outputs": [],
   "source": [
    "# script_file path\n",
    "script_file = 'path_to_script_file'\n",
    "# transcript_file path\n",
    "transcript_file = 'path_to_transcript_file'\n",
    "# importing both files\n",
    "i2x.import_script_transcript(script_file, transcript_file)"
   ]
  },
  {
   "cell_type": "markdown",
   "metadata": {},
   "source": [
    "**Getting the keywords from the script file**"
   ]
  },
  {
   "cell_type": "code",
   "execution_count": null,
   "metadata": {
    "ExecuteTime": {
     "end_time": "2017-07-01T12:50:36.676820",
     "start_time": "2017-07-01T12:50:36.633187"
    },
    "collapsed": false
   },
   "outputs": [],
   "source": [
    "# getting the first 6 keywords\n",
    "i2x.get_keywords(6)"
   ]
  },
  {
   "cell_type": "markdown",
   "metadata": {},
   "source": [
    "**If you want take a look at the transcription corpus...**"
   ]
  },
  {
   "cell_type": "code",
   "execution_count": null,
   "metadata": {
    "ExecuteTime": {
     "end_time": "2017-07-01T12:40:17.248583",
     "start_time": "2017-07-01T12:40:17.189167"
    },
    "collapsed": false
   },
   "outputs": [],
   "source": [
    "# getting the transcription corpus after pre processing\n",
    "i2x.get_transciption_corpus()"
   ]
  },
  {
   "cell_type": "markdown",
   "metadata": {},
   "source": [
    "**Getting the scores between keywords form script and all words from transcript**"
   ]
  },
  {
   "cell_type": "code",
   "execution_count": null,
   "metadata": {
    "ExecuteTime": {
     "end_time": "2017-07-01T12:54:01.244347",
     "start_time": "2017-07-01T12:53:59.992593"
    },
    "collapsed": false
   },
   "outputs": [],
   "source": [
    "# comparing the first 2 script keywords \n",
    "i2x.main(2)"
   ]
  }
 ],
 "metadata": {
  "kernelspec": {
   "display_name": "Python 3",
   "language": "python",
   "name": "python3"
  },
  "language_info": {
   "codemirror_mode": {
    "name": "ipython",
    "version": 3
   },
   "file_extension": ".py",
   "mimetype": "text/x-python",
   "name": "python",
   "nbconvert_exporter": "python",
   "pygments_lexer": "ipython3",
   "version": "3.5.2"
  },
  "nbTranslate": {
   "displayLangs": [
    "*"
   ],
   "hotkey": "alt-t",
   "langInMainMenu": true,
   "sourceLang": "en",
   "targetLang": "fr",
   "useGoogleTranslate": true
  }
 },
 "nbformat": 4,
 "nbformat_minor": 2
}
